{
 "cells": [
  {
   "cell_type": "code",
   "execution_count": 2,
   "metadata": {
    "collapsed": false
   },
   "outputs": [
    {
     "name": "stdout",
     "output_type": "stream",
     "text": [
      "l\n",
      "e\n",
      "a\n"
     ]
    }
   ],
   "source": [
    "word ='lead'\n",
    "print(word[0])\n",
    "print(word[1])\n",
    "print(word[2])\n"
   ]
  },
  {
   "cell_type": "code",
   "execution_count": 6,
   "metadata": {
    "collapsed": false
   },
   "outputs": [
    {
     "name": "stdout",
     "output_type": "stream",
     "text": [
      "i\n",
      "n\n",
      "f\n",
      "l\n",
      "a\n",
      "m\n",
      "m\n",
      "a\n",
      "t\n",
      "i\n",
      "o\n",
      "n\n"
     ]
    }
   ],
   "source": [
    "word ='inflammation'\n",
    "for char in word:\n",
    "    print(char)"
   ]
  },
  {
   "cell_type": "code",
   "execution_count": 8,
   "metadata": {
    "collapsed": false
   },
   "outputs": [
    {
     "name": "stdout",
     "output_type": "stream",
     "text": [
      "There are 5 vowels\n"
     ]
    }
   ],
   "source": [
    "length = 0\n",
    "for vowel in 'aeiou':\n",
    "    length = length + 1\n",
    "print('There are', length, 'vowels')"
   ]
  },
  {
   "cell_type": "code",
   "execution_count": 9,
   "metadata": {
    "collapsed": false
   },
   "outputs": [
    {
     "name": "stdout",
     "output_type": "stream",
     "text": [
      "a\n",
      "b\n",
      "c\n",
      "after the loop letter is c\n"
     ]
    }
   ],
   "source": [
    "letter = 'z'\n",
    "for letter in 'abc':\n",
    "    print(letter)\n",
    "print('after the loop letter is', letter)"
   ]
  },
  {
   "cell_type": "code",
   "execution_count": 10,
   "metadata": {
    "collapsed": false
   },
   "outputs": [
    {
     "name": "stdout",
     "output_type": "stream",
     "text": [
      "6\n"
     ]
    }
   ],
   "source": [
    "print(len('potato'))"
   ]
  },
  {
   "cell_type": "code",
   "execution_count": 12,
   "metadata": {
    "collapsed": false
   },
   "outputs": [
    {
     "name": "stdout",
     "output_type": "stream",
     "text": [
      "range(0, 3)\n",
      "[0, 1, 2]\n",
      "[2, 3, 4]\n",
      "[3, 6, 9]\n"
     ]
    }
   ],
   "source": [
    "print(range(3))\n",
    "print(list(range(3)))\n",
    "print(list(range(2,5)))\n",
    "print(list(range(3,10,3)))"
   ]
  },
  {
   "cell_type": "markdown",
   "metadata": {},
   "source": [
    "#### Exercise\n",
    "1. write a loop that produces '5', '4',...'1'"
   ]
  },
  {
   "cell_type": "code",
   "execution_count": 14,
   "metadata": {
    "collapsed": false
   },
   "outputs": [
    {
     "name": "stdout",
     "output_type": "stream",
     "text": [
      "[5, 4, 3, 2, 1]\n"
     ]
    }
   ],
   "source": [
    "print(list(range(5,0,-1)))"
   ]
  },
  {
   "cell_type": "code",
   "execution_count": 16,
   "metadata": {
    "collapsed": false
   },
   "outputs": [
    {
     "name": "stdout",
     "output_type": "stream",
     "text": [
      "5\n",
      "4\n",
      "3\n",
      "2\n",
      "1\n",
      "BANG\n"
     ]
    }
   ],
   "source": [
    "for count in range(5,0,-1):\n",
    "    print(count)\n",
    "print('BANG')"
   ]
  },
  {
   "cell_type": "code",
   "execution_count": 21,
   "metadata": {
    "collapsed": false
   },
   "outputs": [
    {
     "name": "stdout",
     "output_type": "stream",
     "text": [
      "l\n",
      "i\n",
      "v\n",
      "e\n"
     ]
    }
   ],
   "source": [
    "word = 'evil'\n",
    "for letter in range(-1,-5,-1):\n",
    "    print(word[letter])"
   ]
  },
  {
   "cell_type": "code",
   "execution_count": 25,
   "metadata": {
    "collapsed": false
   },
   "outputs": [
    {
     "name": "stdout",
     "output_type": "stream",
     "text": [
      "l\n",
      "i\n",
      "v\n",
      "e\n"
     ]
    }
   ],
   "source": [
    "word = 'evil'\n",
    "for letter in range(len(word)-1,-1,-1):\n",
    "    print(word[letter])"
   ]
  },
  {
   "cell_type": "code",
   "execution_count": 26,
   "metadata": {
    "collapsed": false
   },
   "outputs": [
    {
     "name": "stdout",
     "output_type": "stream",
     "text": [
      "live\n"
     ]
    }
   ],
   "source": [
    "newstring =''\n",
    "for char in word:\n",
    "    newstring = char + newstring # adding for a string just concatonates the values\n",
    "print(newstring)"
   ]
  },
  {
   "cell_type": "code",
   "execution_count": 27,
   "metadata": {
    "collapsed": false
   },
   "outputs": [
    {
     "name": "stdout",
     "output_type": "stream",
     "text": [
      "live\n"
     ]
    }
   ],
   "source": [
    "newstring = word[::-1]\n",
    "print(newstring)"
   ]
  },
  {
   "cell_type": "code",
   "execution_count": 28,
   "metadata": {
    "collapsed": false
   },
   "outputs": [
    {
     "name": "stdout",
     "output_type": "stream",
     "text": [
      "Variable    Type    Data/Info\n",
      "-----------------------------\n",
      "char        str     l\n",
      "count       int     1\n",
      "length      int     5\n",
      "letter      int     0\n",
      "newstring   str     live\n",
      "vowel       str     u\n",
      "word        str     evil\n"
     ]
    }
   ],
   "source": [
    "%whos"
   ]
  },
  {
   "cell_type": "code",
   "execution_count": null,
   "metadata": {
    "collapsed": true
   },
   "outputs": [],
   "source": []
  }
 ],
 "metadata": {
  "kernelspec": {
   "display_name": "Python [conda root]",
   "language": "python",
   "name": "conda-root-py"
  },
  "language_info": {
   "codemirror_mode": {
    "name": "ipython",
    "version": 3
   },
   "file_extension": ".py",
   "mimetype": "text/x-python",
   "name": "python",
   "nbconvert_exporter": "python",
   "pygments_lexer": "ipython3",
   "version": "3.5.2"
  }
 },
 "nbformat": 4,
 "nbformat_minor": 1
}
