{
 "cells": [
  {
   "cell_type": "code",
   "execution_count": 1,
   "metadata": {
    "collapsed": false
   },
   "outputs": [
    {
     "name": "stdout",
     "output_type": "stream",
     "text": [
      "-3 is negative\n"
     ]
    }
   ],
   "source": [
    "num = -3\n",
    "\n",
    "if num > 0:\n",
    "    print(num, 'is positive')\n",
    "else:\n",
    "    print(num, 'is negative')"
   ]
  },
  {
   "cell_type": "code",
   "execution_count": 7,
   "metadata": {
    "collapsed": false
   },
   "outputs": [
    {
     "name": "stdout",
     "output_type": "stream",
     "text": [
      "4 is positive\n"
     ]
    }
   ],
   "source": [
    "num = 4\n",
    "\n",
    "if num > 0:\n",
    "    print(num, 'is positive')\n",
    "elif num == 0:\n",
    "    print(num, 'is zero')\n",
    "else:\n",
    "    print(num, 'is negative')"
   ]
  },
  {
   "cell_type": "code",
   "execution_count": 8,
   "metadata": {
    "collapsed": false
   },
   "outputs": [
    {
     "name": "stdout",
     "output_type": "stream",
     "text": [
      "at least one part is true\n"
     ]
    }
   ],
   "source": [
    "if (1 > 0 ) and (-1 > 0):  #can use 'or' aswell as 'and'\n",
    "    print('both parts are true')\n",
    "else:\n",
    "    print('at least one part is true')"
   ]
  },
  {
   "cell_type": "code",
   "execution_count": 13,
   "metadata": {
    "collapsed": false
   },
   "outputs": [
    {
     "name": "stdout",
     "output_type": "stream",
     "text": [
      "-1.1111111111111112\n"
     ]
    }
   ],
   "source": [
    "def fahr_to_celcius(temp_f):\n",
    "    return((temp_f - 32) *5/9)\n",
    "\n",
    "print(fahr_to_celcius(30)) "
   ]
  },
  {
   "cell_type": "code",
   "execution_count": 14,
   "metadata": {
    "collapsed": false
   },
   "outputs": [
    {
     "name": "stdout",
     "output_type": "stream",
     "text": [
      "-17.77777777777778\n",
      "-12.222222222222221\n",
      "-6.666666666666667\n",
      "-1.1111111111111112\n",
      "4.444444444444445\n",
      "10.0\n",
      "15.555555555555555\n",
      "21.11111111111111\n",
      "26.666666666666668\n",
      "32.22222222222222\n",
      "37.77777777777778\n",
      "43.333333333333336\n",
      "48.888888888888886\n",
      "54.44444444444444\n",
      "60.0\n",
      "65.55555555555556\n",
      "71.11111111111111\n",
      "76.66666666666667\n",
      "82.22222222222223\n",
      "87.77777777777777\n"
     ]
    }
   ],
   "source": [
    "for i in range(0, 200, 10):\n",
    "    print(fahr_to_celcius(i))"
   ]
  },
  {
   "cell_type": "code",
   "execution_count": null,
   "metadata": {
    "collapsed": true
   },
   "outputs": [],
   "source": []
  }
 ],
 "metadata": {
  "kernelspec": {
   "display_name": "Python [conda root]",
   "language": "python",
   "name": "conda-root-py"
  },
  "language_info": {
   "codemirror_mode": {
    "name": "ipython",
    "version": 3
   },
   "file_extension": ".py",
   "mimetype": "text/x-python",
   "name": "python",
   "nbconvert_exporter": "python",
   "pygments_lexer": "ipython3",
   "version": "3.5.2"
  }
 },
 "nbformat": 4,
 "nbformat_minor": 1
}
